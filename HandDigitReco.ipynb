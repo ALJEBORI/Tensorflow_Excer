{
  "nbformat": 4,
  "nbformat_minor": 0,
  "metadata": {
    "colab": {
      "name": "Copy of HandDigitReco.ipynb",
      "provenance": [],
      "collapsed_sections": [],
      "authorship_tag": "ABX9TyNO+TWKRKRVmcsVjwplgsbk",
      "include_colab_link": true
    },
    "kernelspec": {
      "name": "python3",
      "display_name": "Python 3"
    },
    "language_info": {
      "name": "python"
    }
  },
  "cells": [
    {
      "cell_type": "markdown",
      "metadata": {
        "id": "view-in-github",
        "colab_type": "text"
      },
      "source": [
        "<a href=\"https://colab.research.google.com/github/ALJEBORI/Tensorflow_Excer/blob/main/HandDigitReco.ipynb\" target=\"_parent\"><img src=\"https://colab.research.google.com/assets/colab-badge.svg\" alt=\"Open In Colab\"/></a>"
      ]
    },
    {
      "cell_type": "markdown",
      "metadata": {
        "id": "ocK_GL3SkU1f"
      },
      "source": [
        "Exercise 2\n",
        "In the course you learned how to do classificaiton using Fashion MNIST, a data set containing items of clothing. There's another, similar dataset called MNIST which has items of handwriting -- the digits 0 through 9.\n",
        "\n",
        "Write an MNIST classifier that trains to 99% accuracy or above, and does it without a fixed number of epochs -- i.e. you should stop training once you reach that level of accuracy.\n",
        "\n",
        "Some notes:\n",
        "\n",
        "1- It should succeed in less than 10 epochs, so it is okay to change epochs= to 10, but nothing larger\n",
        "\n",
        "2- When it reaches 99% or greater it should print out the string \"Reached 99%   accuracy so cancelling training!\"\n",
        "\n",
        "3- If you add any additional variables, make sure you use the same names as the ones used in the class\n",
        "I've started the code for you below -- how would you finish it?"
      ]
    },
    {
      "cell_type": "code",
      "metadata": {
        "id": "PnFYkz38jjg_"
      },
      "source": [
        "import tensorflow as tf\n",
        "from os import path, getcwd, chdir\n",
        "\n",
        "# DO NOT CHANGE THE LINE BELOW. If you are developing in a local\n",
        "# environment, then grab mnist.npz from the Coursera Jupyter Notebook\n",
        "# and place it inside a local folder and edit the path to that location\n",
        "#Below line should be uncommented for local mnist.npz file\n",
        "#path = f\"{getcwd()}/../tmp2/mnist.npz\""
      ],
      "execution_count": null,
      "outputs": []
    },
    {
      "cell_type": "code",
      "metadata": {
        "id": "9HT4w2k3lqdf"
      },
      "source": [
        "# GRADED FUNCTION: train_mnist\n",
        "def train_mnist():\n",
        "    # Please write your code only where you are indicated.\n",
        "    # please do not remove # model fitting inline comments.\n",
        "\n",
        "    # YOUR CODE SHOULD START HERE\n",
        "    import numpy as np\n",
        "    import matplotlib.pyplot as plt\n",
        "    class myCallback(tf.keras.callbacks.Callback):\n",
        "      def on_epoch_end(self,epoch,logs={}):\n",
        "        if(logs.get('accuracy')>=0.99):\n",
        "          print(\"\\n Accuracy is low so canciling training!\")\n",
        "          self.model.stop_training=True\n",
        "    # YOUR CODE SHOULD END HERE\n",
        "\n",
        "    mnist = tf.keras.datasets.mnist\n",
        "\n",
        "    (x_train, y_train),(x_test, y_test) = mnist.load_data() #mnist.load_data(path=path)\n",
        "    # YOUR CODE SHOULD START HERE\n",
        "    np.set_printoptions(linewidth=200)\n",
        "    plt.imshow(x_train[0])\n",
        "    print(\"Training label 0 \\n\",x_train[0],\"\\n\")\n",
        "    print(\"x_test[0] shape is: \",np.shape(x_test[0]),\"\\n\")\n",
        "    x_train=x_train/255.0\n",
        "    x_test=x_test/255.0\n",
        "    # YOUR CODE SHOULD END HERE\n",
        "    callbacks=myCallback()\n",
        "    model = tf.keras.models.Sequential([\n",
        "        # YOUR CODE SHOULD START HERE\n",
        "         tf.keras.layers.Flatten(),\n",
        "         tf.keras.layers.Dense(128,activation=tf.nn.relu),\n",
        "         tf.keras.layers.Dense(10,activation=tf.nn.softmax)\n",
        "        # YOUR CODE SHOULD END HERE \n",
        "        ])\n",
        "\n",
        "    model.compile(optimizer='adam',\n",
        "                  loss='sparse_categorical_crossentropy',\n",
        "                  metrics=['accuracy'])\n",
        "    \n",
        "    # model fitting\n",
        "    history = model.fit(# YOUR CODE SHOULD START HERE\n",
        "                        x_train,y_train,epochs=10,callbacks=[callbacks]\n",
        "              # YOUR CODE SHOULD END HERE\n",
        "    )\n",
        "    # model Testing  BY ME\n",
        "    print(\"Model evaluation results \\n\")\n",
        "    model.evaluate(x_test,y_test)\n",
        "    #Testing for x_test[0]\n",
        "    print(\"Testing \\n \",model.predict(x_test)[0])\n",
        "    print(\"Classified x-test[0] is\\n\",\"Maximum value is \",max(model.predict(x_test)[0]),\"Class is \",np.argmax(model.predict(x_test)[0]))\n",
        "    return history.epoch, history.history['accuracy'][-1]"
      ],
      "execution_count": null,
      "outputs": []
    },
    {
      "cell_type": "code",
      "metadata": {
        "id": "-AFfkGDgDvPG"
      },
      "source": [
        "train_mnist()"
      ],
      "execution_count": null,
      "outputs": []
    }
  ]
}