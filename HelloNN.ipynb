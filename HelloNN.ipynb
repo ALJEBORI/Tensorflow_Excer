{
  "nbformat": 4,
  "nbformat_minor": 0,
  "metadata": {
    "colab": {
      "name": "HelloNN.ipynb",
      "provenance": [],
      "authorship_tag": "ABX9TyMkuSD5oW2JctITi6sO0Hnc",
      "include_colab_link": true
    },
    "kernelspec": {
      "name": "python3",
      "display_name": "Python 3"
    },
    "language_info": {
      "name": "python"
    }
  },
  "cells": [
    {
      "cell_type": "markdown",
      "metadata": {
        "id": "view-in-github",
        "colab_type": "text"
      },
      "source": [
        "<a href=\"https://colab.research.google.com/github/ALJEBORI/Tensorflow_Excer/blob/main/HelloNN.ipynb\" target=\"_parent\"><img src=\"https://colab.research.google.com/assets/colab-badge.svg\" alt=\"Open In Colab\"/></a>"
      ]
    },
    {
      "cell_type": "code",
      "metadata": {
        "id": "OhrWORVbvopi"
      },
      "source": [
        "# Prepare the environment\n",
        "import tensorflow as tf\n",
        "import numpy as np\n",
        "from tensorflow import keras\n"
      ],
      "execution_count": 21,
      "outputs": []
    },
    {
      "cell_type": "code",
      "metadata": {
        "id": "r9_mRVMkzcY3"
      },
      "source": [
        "#Preparing your data \n",
        "xs=np.array([-1.0,0.0,1.0,2.0,3.0,4.0],dtype=float)\n",
        "ys=np.array([-3.0,-1.0,1.0,3.0,5.0,7.0],dtype=float)"
      ],
      "execution_count": 2,
      "outputs": []
    },
    {
      "cell_type": "code",
      "metadata": {
        "id": "moSAhREJv66I"
      },
      "source": [
        "# Define your ANN model\n",
        "model=tf.keras.Sequential([keras.layers.Dense(units=1,input_shape=[1])])"
      ],
      "execution_count": 6,
      "outputs": []
    },
    {
      "cell_type": "code",
      "metadata": {
        "id": "PZaIPeoDzErR"
      },
      "source": [
        "#Setting up the losse and optimization functions\n",
        "model.compile(optimizer='sgd',loss='mean_squared_error')"
      ],
      "execution_count": 25,
      "outputs": []
    },
    {
      "cell_type": "code",
      "metadata": {
        "id": "klxyfMnb0EEQ"
      },
      "source": [
        "# Training your created model\n",
        "model.fit(xs,ys,epochs=500)"
      ],
      "execution_count": null,
      "outputs": []
    },
    {
      "cell_type": "code",
      "metadata": {
        "colab": {
          "base_uri": "https://localhost:8080/"
        },
        "id": "6a0Xia5-453B",
        "outputId": "25156630-01ca-411d-aa69-8b468c9e01ce"
      },
      "source": [
        "model.summary()"
      ],
      "execution_count": 22,
      "outputs": [
        {
          "output_type": "stream",
          "text": [
            "Model: \"sequential_1\"\n",
            "_________________________________________________________________\n",
            "Layer (type)                 Output Shape              Param #   \n",
            "=================================================================\n",
            "dense_1 (Dense)              (None, 1)                 2         \n",
            "=================================================================\n",
            "Total params: 2\n",
            "Trainable params: 2\n",
            "Non-trainable params: 0\n",
            "_________________________________________________________________\n"
          ],
          "name": "stdout"
        }
      ]
    },
    {
      "cell_type": "code",
      "metadata": {
        "colab": {
          "base_uri": "https://localhost:8080/"
        },
        "id": "cfcLQMEj0P_Z",
        "outputId": "4597693d-633e-44ac-bb18-61166a92b800"
      },
      "source": [
        "#Testing trained model for different values of x\n",
        "print('Prediction for the input xs=10',model.predict([10.0]))\n",
        "print('Prediction for the input xs=7',model.predict([7.0]))\n",
        "print('Prediction for the input xs=-6',model.predict([-6.0]))\n",
        "\n"
      ],
      "execution_count": 23,
      "outputs": [
        {
          "output_type": "stream",
          "text": [
            "Prediction for the input xs=10 [[18.999878]]\n",
            "Prediction for the input xs=7 [[12.999931]]\n",
            "Prediction for the input xs=-6 [[-12.999841]]\n"
          ],
          "name": "stdout"
        }
      ]
    }
  ]
}